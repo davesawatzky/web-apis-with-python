{
 "cells": [
  {
   "cell_type": "code",
   "execution_count": 1,
   "id": "29e7dd57",
   "metadata": {},
   "outputs": [
    {
     "data": {
      "text/plain": [
       "<bound method Response.raise_for_status of <Response [200]>>"
      ]
     },
     "execution_count": 1,
     "metadata": {},
     "output_type": "execute_result"
    }
   ],
   "source": [
    "import requests\n",
    "response = requests.post(\"http://localhost:5000/\")\n",
    "response.raise_for_status\n"
   ]
  },
  {
   "cell_type": "code",
   "execution_count": 3,
   "id": "b4e735c2",
   "metadata": {},
   "outputs": [
    {
     "data": {
      "text/plain": [
       "{'filters_available': ['blur',\n",
       "  'contour',\n",
       "  'detail',\n",
       "  'edge_enhance',\n",
       "  'edge_enhance_more',\n",
       "  'emboss',\n",
       "  'find_edges',\n",
       "  'sharpen',\n",
       "  'smooth',\n",
       "  'smooth_more'],\n",
       " 'usage': {'URL': '/<filter_available>/', 'http_method': 'POST'}}"
      ]
     },
     "execution_count": 3,
     "metadata": {},
     "output_type": "execute_result"
    }
   ],
   "source": [
    "import json\n",
    "json.loads(response.content.decode(\"utf-8\"))\n"
   ]
  },
  {
   "cell_type": "code",
   "execution_count": 4,
   "id": "555429cf",
   "metadata": {},
   "outputs": [
    {
     "data": {
      "text/plain": [
       "<bound method Response.raise_for_status of <Response [200]>>"
      ]
     },
     "execution_count": 4,
     "metadata": {},
     "output_type": "execute_result"
    }
   ],
   "source": [
    "file = {\"image\":open(\"sample.jpg\", \"rb\")}\n",
    "headers = {\"type\":\"multipart/image\"}\n",
    "url = \"http://localhost:5000\"\n",
    "filter=\"contour\"\n",
    "response = requests.post(f\"{url}/{filter}\", headers = headers, files = file)\n",
    "response.raise_for_status"
   ]
  },
  {
   "cell_type": "code",
   "execution_count": null,
   "id": "f26876e2",
   "metadata": {},
   "outputs": [],
   "source": [
    "file "
   ]
  }
 ],
 "metadata": {
  "kernelspec": {
   "display_name": "Python 3",
   "language": "python",
   "name": "python3"
  },
  "language_info": {
   "codemirror_mode": {
    "name": "ipython",
    "version": 3
   },
   "file_extension": ".py",
   "mimetype": "text/x-python",
   "name": "python",
   "nbconvert_exporter": "python",
   "pygments_lexer": "ipython3",
   "version": "3.8.10"
  }
 },
 "nbformat": 4,
 "nbformat_minor": 5
}
